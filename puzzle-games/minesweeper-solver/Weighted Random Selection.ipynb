{
 "cells": [
  {
   "cell_type": "markdown",
   "metadata": {},
   "source": [
    "In the below game state, random selections need to be made. The frequency of these game s"
   ]
  },
  {
   "cell_type": "markdown",
   "metadata": {},
   "source": [
    "![Flags](images/9.png)"
   ]
  },
  {
   "cell_type": "markdown",
   "metadata": {},
   "source": [
    "The figure below shows the win percentage of my current solver with the number of mines, it looks like at around 10 mines the win ratio starts to drop in proportion to the number the increase in the number of mines. "
   ]
  },
  {
   "cell_type": "markdown",
   "metadata": {},
   "source": [
    "![Flags](images/metric_1.png)"
   ]
  },
  {
   "cell_type": "markdown",
   "metadata": {},
   "source": [
    "## How the problem scales with the number of mines"
   ]
  },
  {
   "cell_type": "markdown",
   "metadata": {},
   "source": [
    "Lets have a little look at how the problem scales with the number of mines. \n",
    "\n",
    "The relation between number of mines and win ratio seems to be the following:\n",
    "\n",
    "<b> n! / r!(n-r)! </b>\n",
    "\n",
    "Where n is the area of the grid and where r is the number of mines. \n",
    "\n",
    "It's a combination problem because you are selecting 10 mines from 100 spots. Therefore you are calculating the number of unique combinations of sets of size 10 containing 100 possible items.\n"
   ]
  },
  {
   "cell_type": "code",
   "execution_count": null,
   "metadata": {},
   "outputs": [],
   "source": []
  }
 ],
 "metadata": {
  "kernelspec": {
   "display_name": "Python 3",
   "language": "python",
   "name": "python3"
  },
  "language_info": {
   "codemirror_mode": {
    "name": "ipython",
    "version": 3
   },
   "file_extension": ".py",
   "mimetype": "text/x-python",
   "name": "python",
   "nbconvert_exporter": "python",
   "pygments_lexer": "ipython3",
   "version": "3.8.5"
  }
 },
 "nbformat": 4,
 "nbformat_minor": 4
}
