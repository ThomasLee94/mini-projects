{
 "cells": [
  {
   "cell_type": "markdown",
   "metadata": {},
   "source": [
    "# Human approach"
   ]
  },
  {
   "cell_type": "markdown",
   "metadata": {},
   "source": [
    "### How do we solve minesweeper as a human? \n",
    "\n",
    "- Flag tiles that we can know are mines.\n",
    "    - How do we make 100% confident flags? We look for numbers that have the same number in hidden neighours, because the number represents the number of mines it is directly adjacent to.\n",
    "    \n",
    "- Select tiles that we know are mines. \n",
    "    - How can we make 100% confident selections? Like the above, we can confidently make selections on non mines if a tile is adjacent to the number of flags equal to its number. \n",
    "\n",
    "- Alternating between flagging and selecting allows us to solve the game with 100% certainty, provided we are not met with a gamestate that forces us to make a random selection. The probability of this happening increases with the number of mines that are on the board. More on this later."
   ]
  },
  {
   "cell_type": "markdown",
   "metadata": {},
   "source": [
    "![Flags](images/3.png)"
   ]
  },
  {
   "cell_type": "markdown",
   "metadata": {},
   "source": [
    "From the above board, we can confidently make these flags because "
   ]
  },
  {
   "cell_type": "markdown",
   "metadata": {},
   "source": [
    "![Flags](images/4.png)"
   ]
  },
  {
   "cell_type": "markdown",
   "metadata": {},
   "source": [
    "![Flags](images/5.png)"
   ]
  },
  {
   "cell_type": "markdown",
   "metadata": {},
   "source": [
    "![Flags](images/6.png)"
   ]
  },
  {
   "cell_type": "markdown",
   "metadata": {},
   "source": [
    "![Flags](images/7.png)"
   ]
  },
  {
   "cell_type": "markdown",
   "metadata": {},
   "source": [
    "![Flags](images/8.png)"
   ]
  },
  {
   "cell_type": "markdown",
   "metadata": {},
   "source": [
    "# Code"
   ]
  },
  {
   "cell_type": "markdown",
   "metadata": {},
   "source": [
    "## How do we get adjacent flags in code? "
   ]
  },
  {
   "cell_type": "code",
   "execution_count": 1,
   "metadata": {},
   "outputs": [],
   "source": [
    "# Solver class\n",
    "    \n",
    "def get_adjacent_flags(self, i, j):\n",
    "    \"\"\"\n",
    "    Returns a list of all adjacents that are\n",
    "    flags from i & j.\n",
    "    \"\"\"\n",
    "    flags = []\n",
    "\n",
    "    for ni, nj in self.game.hidden_board.get_neighbours(i, j):\n",
    "        if self.game.is_flagged(ni, nj):\n",
    "            flags.append((ni, nj))\n",
    "\n",
    "    return flags"
   ]
  },
  {
   "cell_type": "markdown",
   "metadata": {},
   "source": [
    "## How do we get hidden neighbours? "
   ]
  },
  {
   "cell_type": "code",
   "execution_count": 2,
   "metadata": {},
   "outputs": [],
   "source": [
    "def get_hidden_neighbours(self, i, j):\n",
    "    \"\"\"\n",
    "    Returns a list of all neighbours that are hidden\n",
    "    from coord i & j.\n",
    "    \"\"\"\n",
    "    hidden_neighbours = []\n",
    "\n",
    "    for ni, nj in self.game.hidden_board.get_neighbours(i, j):\n",
    "        if not self.game.is_selected(ni, nj):\n",
    "            hidden_neighbours.append((ni, nj))\n",
    "\n",
    "    return hidden_neighbours"
   ]
  },
  {
   "cell_type": "markdown",
   "metadata": {},
   "source": [
    "## How do we identify selections with certainty? "
   ]
  },
  {
   "cell_type": "code",
   "execution_count": 4,
   "metadata": {},
   "outputs": [],
   "source": [
    "def identify_selections(self):\n",
    "    \"\"\"\n",
    "    Find all selections with 100% certainty.\n",
    "    \"\"\"\n",
    "\n",
    "    for i, j in self.get_visible_numbers():\n",
    "        if self.is_satisfied(i,j):\n",
    "            neighbours = self.game.hidden_board.get_neighbours(i, j)\n",
    "            for ni, nj in neighbours:\n",
    "                if (not self.game.is_selected(ni, nj) and not self.game.is_flagged(ni, nj)):\n",
    "                    yield ni, nj"
   ]
  },
  {
   "cell_type": "markdown",
   "metadata": {},
   "source": [
    "## How do we identify flags with certainty? "
   ]
  },
  {
   "cell_type": "code",
   "execution_count": 5,
   "metadata": {},
   "outputs": [],
   "source": [
    "def identify_flags(self):\n",
    "    \"\"\"\n",
    "    Finds all flags with 100% certainty.\n",
    "    \"\"\"\n",
    "\n",
    "    for i, j in self.get_visible_numbers():\n",
    "        hidden_neighbours = self.get_hidden_neighbours(i,j)\n",
    "        if self.hidden_neighbours_are_mines(i, j, hidden_neighbours):\n",
    "        # if len(hidden_neighbours) == self.game.hidden_board.board[i][j]:\n",
    "            for ni, nj in hidden_neighbours:\n",
    "                if not self.game.is_flagged(ni, nj):\n",
    "                    yield ni, nj"
   ]
  },
  {
   "cell_type": "markdown",
   "metadata": {},
   "source": [
    "## How the solver works"
   ]
  },
  {
   "cell_type": "code",
   "execution_count": 6,
   "metadata": {},
   "outputs": [],
   "source": [
    "def solve(self):\n",
    "        \"\"\"\n",
    "        Runs the solver.\n",
    "        \"\"\"\n",
    "        self.make_random_selection()\n",
    "        self.game.display_board()\n",
    "\n",
    "        while not self.game.game_lost() and not self.game.game_won():\n",
    "            change_made = False\n",
    "\n",
    "            for i, j in self.identify_flags():\n",
    "                change_made =  True\n",
    "                self.game.flag(i, j)\n",
    "            print('Flaggings')\n",
    "            self.game.display_board()\n",
    "\n",
    "            for i, j in self.identify_selections():\n",
    "                change_made = True\n",
    "                self.game.select(i, j)\n",
    "            print('Selections')\n",
    "            self.game.display_board()\n",
    "\n",
    "            if not change_made:\n",
    "                self.make_random_selection()\n",
    "                print('Random selection !!!!')\n",
    "                self.game.display_board()\n",
    "        \n",
    "        if self.game.game_won():\n",
    "            print(\"You won!\")\n",
    "        else:\n",
    "            print(\"You Lost\")"
   ]
  },
  {
   "cell_type": "markdown",
   "metadata": {},
   "source": [
    "1. Tries to indentify flags with certainty\n",
    "2. Tries to identify selections with certainty\n",
    "3. If neither flags or selections were made, make a random selections"
   ]
  },
  {
   "cell_type": "code",
   "execution_count": null,
   "metadata": {},
   "outputs": [],
   "source": []
  }
 ],
 "metadata": {
  "kernelspec": {
   "display_name": "Python 3",
   "language": "python",
   "name": "python3"
  },
  "language_info": {
   "codemirror_mode": {
    "name": "ipython",
    "version": 3
   },
   "file_extension": ".py",
   "mimetype": "text/x-python",
   "name": "python",
   "nbconvert_exporter": "python",
   "pygments_lexer": "ipython3",
   "version": "3.8.5"
  }
 },
 "nbformat": 4,
 "nbformat_minor": 4
}
